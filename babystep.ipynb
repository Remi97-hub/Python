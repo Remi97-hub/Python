{
 "cells": [
  {
   "cell_type": "code",
   "execution_count": null,
   "id": "35a91f8d-d71c-4126-8384-ec3098fe61b2",
   "metadata": {},
   "outputs": [],
   "source": []
  },
  {
   "cell_type": "code",
   "execution_count": 2,
   "id": "0372f383-62f4-41fb-9439-77eae5a02992",
   "metadata": {},
   "outputs": [
    {
     "name": "stdout",
     "output_type": "stream",
     "text": [
      "Welcome to Assignment-1\n"
     ]
    }
   ],
   "source": [
    "print(\"Welcome to Assignment-1\")"
   ]
  },
  {
   "cell_type": "code",
   "execution_count": 3,
   "id": "26551bb4-08bc-4905-94c0-e5506968f2ff",
   "metadata": {},
   "outputs": [
    {
     "name": "stdout",
     "output_type": "stream",
     "text": [
      "40\n"
     ]
    }
   ],
   "source": [
    "Num1=10\n",
    "Num2=30\n",
    "add=Num1+Num2\n",
    "print(add)"
   ]
  },
  {
   "cell_type": "code",
   "execution_count": null,
   "id": "00e8473d-6bab-45cc-ab0e-41521b24150c",
   "metadata": {},
   "outputs": [],
   "source": [
    "#Body mass Index"
   ]
  },
  {
   "cell_type": "code",
   "execution_count": 8,
   "id": "68c8276b-ea3a-404f-b2c0-11310fd97d2a",
   "metadata": {},
   "outputs": [
    {
     "name": "stdin",
     "output_type": "stream",
     "text": [
      "Enter the BMI index 34\n"
     ]
    },
    {
     "name": "stdout",
     "output_type": "stream",
     "text": [
      "over weight\n"
     ]
    }
   ],
   "source": [
    "BMI=int(input(\"Enter the BMI index\"))\n",
    "if(BMI<=18.4):\n",
    "    print(\"under weight\")\n",
    "elif(BMI>18.5 and BMI<24.9):\n",
    "    print(\"normal weight\")\n",
    "else:\n",
    "    print(\"over weight\")"
   ]
  },
  {
   "cell_type": "code",
   "execution_count": null,
   "id": "32334dbe-e8fc-4adf-827d-593005458472",
   "metadata": {},
   "outputs": [],
   "source": []
  }
 ],
 "metadata": {
  "kernelspec": {
   "display_name": "Python [conda env:base] *",
   "language": "python",
   "name": "conda-base-py"
  },
  "language_info": {
   "codemirror_mode": {
    "name": "ipython",
    "version": 3
   },
   "file_extension": ".py",
   "mimetype": "text/x-python",
   "name": "python",
   "nbconvert_exporter": "python",
   "pygments_lexer": "ipython3",
   "version": "3.12.7"
  }
 },
 "nbformat": 4,
 "nbformat_minor": 5
}
