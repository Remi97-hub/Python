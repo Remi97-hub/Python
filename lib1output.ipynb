{
 "cells": [
  {
   "cell_type": "code",
   "execution_count": 1,
   "id": "bb2c1835-90a5-44e1-81ba-f895d09135f1",
   "metadata": {},
   "outputs": [],
   "source": [
    "from lib1 import Multfunc\n"
   ]
  },
  {
   "cell_type": "code",
   "execution_count": 2,
   "id": "12397cc7-d104-4752-a273-447d197cecdd",
   "metadata": {},
   "outputs": [
    {
     "name": "stdout",
     "output_type": "stream",
     "text": [
      "Sub-Feilds in AI are:\n",
      "Machine Learning\n",
      "Neural Network\n",
      "vision\n",
      "Robotics\n",
      "Speech Processing\n",
      "Natural Language Processing\n"
     ]
    }
   ],
   "source": [
    "Multfunc.SubfeildsinAI()"
   ]
  },
  {
   "cell_type": "code",
   "execution_count": 3,
   "id": "97e930ba-a7af-478a-8dea-5932d76a36c9",
   "metadata": {},
   "outputs": [
    {
     "name": "stdin",
     "output_type": "stream",
     "text": [
      "Enter a number: 52452\n"
     ]
    },
    {
     "name": "stdout",
     "output_type": "stream",
     "text": [
      "52452 is even\n"
     ]
    }
   ],
   "source": [
    "Multfunc.oddeven()"
   ]
  },
  {
   "cell_type": "code",
   "execution_count": 4,
   "id": "9051b948-bafe-4af7-b8bc-7464a5b2a99f",
   "metadata": {},
   "outputs": [
    {
     "name": "stdin",
     "output_type": "stream",
     "text": [
      "Enter yor gender male\n",
      "Enter your Age 20\n"
     ]
    },
    {
     "name": "stdout",
     "output_type": "stream",
     "text": [
      "Not Eligible\n"
     ]
    },
    {
     "data": {
      "text/plain": [
       "'Not Eligible'"
      ]
     },
     "execution_count": 4,
     "metadata": {},
     "output_type": "execute_result"
    }
   ],
   "source": [
    "Multfunc.MarriageEligiblity()"
   ]
  },
  {
   "cell_type": "code",
   "execution_count": 5,
   "id": "eb7e3745-3f41-425c-a0e9-4dac23d7cdf0",
   "metadata": {},
   "outputs": [
    {
     "name": "stdin",
     "output_type": "stream",
     "text": [
      "Subject1: 98\n",
      "Subject2: 87\n",
      "Subject3: 95\n",
      "Subject4: 95\n",
      "Subject5: 93\n"
     ]
    },
    {
     "name": "stdout",
     "output_type": "stream",
     "text": [
      "Total: 468\n",
      "Percentage: 93.6\n"
     ]
    }
   ],
   "source": [
    "Multfunc.percentage()"
   ]
  },
  {
   "cell_type": "code",
   "execution_count": 6,
   "id": "e56074fc-4c8e-420d-9e39-3932a52c5301",
   "metadata": {},
   "outputs": [
    {
     "name": "stdin",
     "output_type": "stream",
     "text": [
      "Height: 32\n",
      "Breadth: 34\n"
     ]
    },
    {
     "name": "stdout",
     "output_type": "stream",
     "text": [
      "Area Formula:(Height*Breadth)/2\n"
     ]
    },
    {
     "data": {
      "text/plain": [
       "544.0"
      ]
     },
     "execution_count": 6,
     "metadata": {},
     "output_type": "execute_result"
    }
   ],
   "source": [
    "Multfunc.trianglearea()"
   ]
  },
  {
   "cell_type": "code",
   "execution_count": 7,
   "id": "a4c8f312-9072-4bab-94a2-bf191028eb17",
   "metadata": {},
   "outputs": [
    {
     "name": "stdin",
     "output_type": "stream",
     "text": [
      "Height1: 2\n",
      "Height2: 4\n",
      "Breadth: 4\n"
     ]
    },
    {
     "name": "stdout",
     "output_type": "stream",
     "text": [
      "Perimeter Formula: Height1+Height2+Breadth\n"
     ]
    },
    {
     "data": {
      "text/plain": [
       "10"
      ]
     },
     "execution_count": 7,
     "metadata": {},
     "output_type": "execute_result"
    }
   ],
   "source": [
    "Multfunc.triangleperimeter()"
   ]
  },
  {
   "cell_type": "code",
   "execution_count": null,
   "id": "d5c4c1d2-41f6-4d28-8672-4bda3b8a8516",
   "metadata": {},
   "outputs": [],
   "source": []
  }
 ],
 "metadata": {
  "kernelspec": {
   "display_name": "Python [conda env:base] *",
   "language": "python",
   "name": "conda-base-py"
  },
  "language_info": {
   "codemirror_mode": {
    "name": "ipython",
    "version": 3
   },
   "file_extension": ".py",
   "mimetype": "text/x-python",
   "name": "python",
   "nbconvert_exporter": "python",
   "pygments_lexer": "ipython3",
   "version": "3.12.7"
  }
 },
 "nbformat": 4,
 "nbformat_minor": 5
}
