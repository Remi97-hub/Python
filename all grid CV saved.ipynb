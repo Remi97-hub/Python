{
 "cells": [
  {
   "cell_type": "code",
   "execution_count": 15,
   "id": "33ce0c5a-db77-4c44-9a5e-e20c9853bcbb",
   "metadata": {},
   "outputs": [],
   "source": [
    "svr_params = {'C': [0.1, 1, 10, 100],'kernel': ['linear', 'rbf', 'poly'],'gamma': ['scale', 'auto', 0.1, 0.01]}\n",
    "dt_params = {'criterion':['squared_error','friedman_mse'],'max_features':['sqrt','log2'],'max_depth': [None, 10, 20, 30],'min_samples_split': [2, 5, 10],'min_samples_leaf': [1, 2, 4],'splitter':['random','best']}\n",
    "rf_params = {'criterion':['squared_error','absolute_error'],'max_features':['auto','sqrt','log2'],'n_estimators': [100, 200, 300],'max_depth': [None, 10, 20, 30],'min_samples_split': [2, 5, 10]}"
   ]
  },
  {
   "cell_type": "code",
   "execution_count": 16,
   "id": "e500c66f-0cbf-4ced-94a9-60b31fa75f93",
   "metadata": {
    "scrolled": true
   },
   "outputs": [],
   "source": [
    "from sklearn.model_selection import GridSearchCV\n",
    "from sklearn.svm import SVR\n",
    "from sklearn.tree import DecisionTreeRegressor\n",
    "from sklearn.ensemble import RandomForestRegressor\n",
    "svr_grid=GridSearchCV(SVR(),param_grid=svr_params,cv=5,verbose=3,n_jobs=-1)\n",
    "\n",
    "dt_grid=GridSearchCV(DecisionTreeRegressor(),param_grid=dt_params,cv=5,verbose=3,n_jobs=-1)\n",
    "\n",
    "rf_grid=GridSearchCV(RandomForestRegressor(),param_grid=rf_params,cv=5,verbose=3,n_jobs=-1)\n"
   ]
  },
  {
   "cell_type": "code",
   "execution_count": null,
   "id": "5cb890f2-8cad-4150-9927-170711e92d64",
   "metadata": {},
   "outputs": [],
   "source": []
  },
  {
   "cell_type": "code",
   "execution_count": 17,
   "id": "a3f62727-d08d-4d00-ac2e-3fac17763300",
   "metadata": {},
   "outputs": [],
   "source": [
    "import pickle\n",
    "all_grids={'svr':svr_grid,'dt':dt_grid,'rf':rf_grid}\n",
    "with open (\"all_grid_models.pkl\",'wb') as f:pickle.dump(all_grids,f)\n"
   ]
  },
  {
   "cell_type": "code",
   "execution_count": null,
   "id": "a2e019fe-2185-49e9-949a-3ad322014410",
   "metadata": {},
   "outputs": [],
   "source": []
  }
 ],
 "metadata": {
  "kernelspec": {
   "display_name": "Python [conda env:base] *",
   "language": "python",
   "name": "conda-base-py"
  },
  "language_info": {
   "codemirror_mode": {
    "name": "ipython",
    "version": 3
   },
   "file_extension": ".py",
   "mimetype": "text/x-python",
   "name": "python",
   "nbconvert_exporter": "python",
   "pygments_lexer": "ipython3",
   "version": "3.12.7"
  }
 },
 "nbformat": 4,
 "nbformat_minor": 5
}
