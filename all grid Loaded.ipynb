{
 "cells": [
  {
   "cell_type": "code",
   "execution_count": 9,
   "id": "c2ecc930-886a-45e1-a3c9-6a5285a9ba5d",
   "metadata": {},
   "outputs": [],
   "source": [
    "import pickle\n",
    "with open (\"all_grid_models.pkl\",'rb') as f:all_grids=pickle.load(f)\n",
    "    \n",
    "    \n"
   ]
  },
  {
   "cell_type": "code",
   "execution_count": 10,
   "id": "b413e446-0ee2-4051-a4b5-cad0b23e7d4b",
   "metadata": {},
   "outputs": [],
   "source": [
    "svr_grid=loaded_grids['svr']\n",
    "dt_grid=loaded_grids['dt']\n",
    "rf_grid=loaded_grids['rf']"
   ]
  },
  {
   "cell_type": "code",
   "execution_count": null,
   "id": "95d66bdb-76f3-4e16-970e-f47fa5bb4804",
   "metadata": {},
   "outputs": [],
   "source": []
  }
 ],
 "metadata": {
  "kernelspec": {
   "display_name": "Python [conda env:base] *",
   "language": "python",
   "name": "conda-base-py"
  },
  "language_info": {
   "codemirror_mode": {
    "name": "ipython",
    "version": 3
   },
   "file_extension": ".py",
   "mimetype": "text/x-python",
   "name": "python",
   "nbconvert_exporter": "python",
   "pygments_lexer": "ipython3",
   "version": "3.12.7"
  }
 },
 "nbformat": 4,
 "nbformat_minor": 5
}
