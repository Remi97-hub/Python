{
 "cells": [
  {
   "cell_type": "code",
   "execution_count": 5,
   "id": "5aa425f6-e673-4a6e-bac0-09f467058f39",
   "metadata": {},
   "outputs": [],
   "source": [
    "def subfeildsinAI():\n",
    "    for i in subfeilds:\n",
    "        print(i)"
   ]
  },
  {
   "cell_type": "code",
   "execution_count": 6,
   "id": "3659c8ed-df55-4e78-9089-4d64bc4b90c2",
   "metadata": {},
   "outputs": [],
   "source": [
    "subfeilds=['Robotics','Speech Processing','Natural language Processing']"
   ]
  },
  {
   "cell_type": "code",
   "execution_count": 8,
   "id": "a41344b3-ff89-4e19-b82a-a9371684d3c4",
   "metadata": {},
   "outputs": [
    {
     "name": "stdout",
     "output_type": "stream",
     "text": [
      "Robotics\n",
      "Speech Processing\n",
      "Natural language Processing\n"
     ]
    }
   ],
   "source": [
    "subfeildsinAI()"
   ]
  },
  {
   "cell_type": "code",
   "execution_count": 9,
   "id": "94ba1b43-4082-4854-8a9b-5923b943b7af",
   "metadata": {},
   "outputs": [],
   "source": [
    "def oddeven():\n",
    "    if(num%2==1):\n",
    "        print(num,\"is odd\")\n",
    "    else:\n",
    "        print(num,\"is even\")"
   ]
  },
  {
   "cell_type": "code",
   "execution_count": 10,
   "id": "39a27ad4-1483-42a4-af96-1c0d76a3af34",
   "metadata": {},
   "outputs": [
    {
     "name": "stdin",
     "output_type": "stream",
     "text": [
      "Enter a number: 52452\n"
     ]
    }
   ],
   "source": [
    "num=int(input(\"Enter a number:\"))"
   ]
  },
  {
   "cell_type": "code",
   "execution_count": 11,
   "id": "ed9fae25-58df-4a89-8384-ab503cd6f827",
   "metadata": {},
   "outputs": [
    {
     "name": "stdout",
     "output_type": "stream",
     "text": [
      "52452 is even\n"
     ]
    }
   ],
   "source": [
    "oddeven()"
   ]
  },
  {
   "cell_type": "code",
   "execution_count": 17,
   "id": "4569915b-350b-40ac-9481-d3dc675dde82",
   "metadata": {},
   "outputs": [],
   "source": [
    "def Eligiblity():\n",
    "    if(gender=='male' and age>=21):\n",
    "        print(\"eligible\")\n",
    "        message=\"eligible\"\n",
    "    elif(gender=='female' and age>=18):\n",
    "        print(\"eligible\")\n",
    "        message=\"eligible\"\n",
    "    else:\n",
    "        print(\"Not Eligible\")\n",
    "        message=\"Not Eligible\"\n",
    "        return message"
   ]
  },
  {
   "cell_type": "code",
   "execution_count": 18,
   "id": "3ed8b424-7154-4db2-acd8-cdac2a52d428",
   "metadata": {},
   "outputs": [
    {
     "name": "stdin",
     "output_type": "stream",
     "text": [
      "Enter your Gender: male\n",
      "Enter your Age: 20\n"
     ]
    }
   ],
   "source": [
    "gender=input(\"Enter your Gender:\")\n",
    "age=int(input(\"Enter your Age:\"))"
   ]
  },
  {
   "cell_type": "code",
   "execution_count": 19,
   "id": "0197310f-e131-4ff2-b08f-0701ff871302",
   "metadata": {},
   "outputs": [
    {
     "name": "stdout",
     "output_type": "stream",
     "text": [
      "Not Eligible\n"
     ]
    }
   ],
   "source": [
    "message=Eligiblity()"
   ]
  },
  {
   "cell_type": "code",
   "execution_count": 9,
   "id": "967e3439-3bce-4b7b-a3b9-3b1402572c92",
   "metadata": {},
   "outputs": [],
   "source": [
    "def acheivement():\n",
    "    s1=int(input(\"Subject1:\"))\n",
    "    s2=int(input(\"Subject2:\"))\n",
    "    s3=int(input(\"Subject3:\"))\n",
    "    s4=int(input(\"Subject4:\"))\n",
    "    s5=int(input(\"Subject5:\"))\n",
    "    total=s1+s2+s3+s4+s5\n",
    "    percentage=total/5\n",
    "    print(\"Total:\",total)\n",
    "    print(\"Percentage:\",percentage)\n",
    "    return percentage\n",
    "   "
   ]
  },
  {
   "cell_type": "code",
   "execution_count": 10,
   "id": "2178d1f7-2e87-432d-9e2e-a771e53b966f",
   "metadata": {},
   "outputs": [
    {
     "name": "stdin",
     "output_type": "stream",
     "text": [
      "Subject1: 95\n",
      "Subject2: 87\n",
      "Subject3: 95\n",
      "Subject4: 95\n",
      "Subject5: 93\n"
     ]
    },
    {
     "name": "stdout",
     "output_type": "stream",
     "text": [
      "Total: 465\n",
      "Percentage: 93.0\n"
     ]
    },
    {
     "data": {
      "text/plain": [
       "93.0"
      ]
     },
     "execution_count": 10,
     "metadata": {},
     "output_type": "execute_result"
    }
   ],
   "source": [
    "acheivement()"
   ]
  },
  {
   "cell_type": "code",
   "execution_count": 2,
   "id": "f00067d8-3774-469e-ba43-176601e00598",
   "metadata": {},
   "outputs": [],
   "source": [
    "def TriangleArea():\n",
    "    height=int(input(\"Height:\"))\n",
    "    breadth=int(input(\"Breadth:\"))\n",
    "    areaformula=(height*breadth)/2\n",
    "    print(\"Area Formula:\",\"(Height*Breadth)/2\")\n",
    "    return areaformula\n",
    "def TrianglePerimetre():\n",
    "    height1=int(input(\"Height1:\"))\n",
    "    height2=int(input(\"Height2:\"))\n",
    "    breadth=int(input(\"Breadth:\"))\n",
    "    perimetreformula=(height1+height2+breadth)\n",
    "    print(\"Perimetre Formula:\",\"Height1+Height2+Breadth\")\n",
    "    return perimetreformula"
   ]
  },
  {
   "cell_type": "code",
   "execution_count": 3,
   "id": "210af187-d7ab-4cdd-809c-04a5469a6918",
   "metadata": {},
   "outputs": [
    {
     "name": "stdin",
     "output_type": "stream",
     "text": [
      "Height: 32\n",
      "Breadth: 34\n"
     ]
    },
    {
     "name": "stdout",
     "output_type": "stream",
     "text": [
      "Area Formula: (Height*Breadth)/2\n"
     ]
    },
    {
     "data": {
      "text/plain": [
       "544.0"
      ]
     },
     "execution_count": 3,
     "metadata": {},
     "output_type": "execute_result"
    }
   ],
   "source": [
    "TriangleArea()"
   ]
  },
  {
   "cell_type": "code",
   "execution_count": 4,
   "id": "bcfbdb32-6257-4959-a417-8fede4802178",
   "metadata": {},
   "outputs": [
    {
     "name": "stdin",
     "output_type": "stream",
     "text": [
      "Height1: 2\n",
      "Height2: 4\n",
      "Breadth: 4\n"
     ]
    },
    {
     "name": "stdout",
     "output_type": "stream",
     "text": [
      "Perimetre Formula: Height1+Height2+Breadth\n"
     ]
    },
    {
     "data": {
      "text/plain": [
       "10"
      ]
     },
     "execution_count": 4,
     "metadata": {},
     "output_type": "execute_result"
    }
   ],
   "source": [
    "TrianglePerimetre()"
   ]
  },
  {
   "cell_type": "code",
   "execution_count": null,
   "id": "9a12dc3f-f293-48f4-97a3-df0b8ea4fb5c",
   "metadata": {},
   "outputs": [],
   "source": []
  }
 ],
 "metadata": {
  "kernelspec": {
   "display_name": "Python [conda env:base] *",
   "language": "python",
   "name": "conda-base-py"
  },
  "language_info": {
   "codemirror_mode": {
    "name": "ipython",
    "version": 3
   },
   "file_extension": ".py",
   "mimetype": "text/x-python",
   "name": "python",
   "nbconvert_exporter": "python",
   "pygments_lexer": "ipython3",
   "version": "3.12.7"
  }
 },
 "nbformat": 4,
 "nbformat_minor": 5
}
