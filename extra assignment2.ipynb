{
 "cells": [
  {
   "cell_type": "raw",
   "id": "2efde5b7-1e7b-4ca4-8f7d-c891ab4afaf5",
   "metadata": {},
   "source": [
    "#extra assignment 2"
   ]
  },
  {
   "cell_type": "code",
   "execution_count": 1,
   "id": "ec1407dc-e331-4a0f-b201-8f82d5f5fae9",
   "metadata": {},
   "outputs": [
    {
     "name": "stdout",
     "output_type": "stream",
     "text": [
      "0\n",
      "1\n",
      "2\n",
      "3\n",
      "4\n",
      "5\n",
      "6\n",
      "7\n",
      "8\n",
      "9\n",
      "10\n",
      "11\n",
      "12\n",
      "13\n",
      "14\n",
      "15\n",
      "16\n",
      "17\n",
      "18\n",
      "19\n"
     ]
    }
   ],
   "source": [
    "for n in range(20):\n",
    "    print(n)\n"
   ]
  },
  {
   "cell_type": "code",
   "execution_count": 6,
   "id": "ae38b884-fd0a-4f4f-8513-5aa260aca70f",
   "metadata": {},
   "outputs": [
    {
     "name": "stdout",
     "output_type": "stream",
     "text": [
      "0, 1, 2, 3, 4, 5, 6, 7, 8, 9, 10, 11, 12, 13, 14, 15, 16, 17, 18, 19, "
     ]
    }
   ],
   "source": [
    "for n in range(20):\n",
    "    print(n,end=\", \")"
   ]
  },
  {
   "cell_type": "code",
   "execution_count": 8,
   "id": "ce47164b-11a4-4a8f-98fc-c9c0a09409d5",
   "metadata": {},
   "outputs": [
    {
     "name": "stdout",
     "output_type": "stream",
     "text": [
      "[10, 20, 14, 55, 43, 87, 76]\n",
      "numbers of items in list: 7\n"
     ]
    }
   ],
   "source": [
    "list=[10,20,14,55,43,87,76]\n",
    "print(list)\n",
    "print(\"numbers of items in list:\",len(list))"
   ]
  },
  {
   "cell_type": "code",
   "execution_count": 13,
   "id": "76e877bc-973a-4b60-aeae-773154ea51c3",
   "metadata": {},
   "outputs": [
    {
     "name": "stdin",
     "output_type": "stream",
     "text": [
      " Artificial Intelligence\n"
     ]
    },
    {
     "name": "stdout",
     "output_type": "stream",
     "text": [
      "A\n",
      "r\n",
      "t\n",
      "i\n",
      "f\n",
      "i\n",
      "c\n",
      "i\n",
      "a\n",
      "l\n",
      " \n",
      "I\n",
      "n\n",
      "t\n",
      "e\n",
      "l\n",
      "l\n",
      "i\n",
      "g\n",
      "e\n",
      "n\n",
      "c\n",
      "e\n"
     ]
    }
   ],
   "source": [
    "ai=input()\n",
    "for n in ai:\n",
    "    print(n)"
   ]
  },
  {
   "cell_type": "code",
   "execution_count": 15,
   "id": "799377d3-8581-4440-b30e-b2b130391bf9",
   "metadata": {},
   "outputs": [
    {
     "name": "stdout",
     "output_type": "stream",
     "text": [
      "-Your Name-\n",
      "-Your Age-\n",
      "-Your proffession-\n"
     ]
    }
   ],
   "source": [
    "list=[\"-Your Name-\",\"-Your Age-\",\"-Your proffession-\"]\n",
    "for n in list:\n",
    "    print(n)"
   ]
  },
  {
   "cell_type": "code",
   "execution_count": 1,
   "id": "7766470e-ebfe-40c6-81a7-5a97078301bf",
   "metadata": {},
   "outputs": [
    {
     "name": "stdout",
     "output_type": "stream",
     "text": [
      "(1, 'Welcome', 2, 'Hope')\n"
     ]
    }
   ],
   "source": [
    "list=(1,'Welcome',2,'Hope')\n",
    "print(list)"
   ]
  },
  {
   "cell_type": "code",
   "execution_count": 2,
   "id": "4b036e95-3744-4496-8c29-6d4f15d44fb3",
   "metadata": {},
   "outputs": [
    {
     "name": "stdout",
     "output_type": "stream",
     "text": [
      "((0, 1, 2, 3), ('PYTHON', 'HOPE'))\n"
     ]
    }
   ],
   "source": [
    "list1=(0,1,2,3)\n",
    "list2=('PYTHON','HOPE')\n",
    "tuple=(list1,list2)\n",
    "print(tuple)"
   ]
  },
  {
   "cell_type": "code",
   "execution_count": 1,
   "id": "5362532e-83cc-476a-9155-0f6743077aa4",
   "metadata": {},
   "outputs": [
    {
     "name": "stdout",
     "output_type": "stream",
     "text": [
      "(0, 1, 2, 3),('python','HOPE')\n"
     ]
    }
   ],
   "source": [
    "tuple1=(0,1,2,3)\n",
    "print(f\"{tuple1},('python','HOPE')\")"
   ]
  },
  {
   "cell_type": "code",
   "execution_count": 18,
   "id": "9a027948-f166-404d-975f-b5bffb929d37",
   "metadata": {},
   "outputs": [
    {
     "name": "stdout",
     "output_type": "stream",
     "text": [
      "19 is odd\n",
      "25 is odd\n",
      "1 is odd\n"
     ]
    }
   ],
   "source": [
    "list=(20,10,16,19,25,1,276,188)\n",
    "for n in list:\n",
    "    if(n%2==1):\n",
    "        print(n,\"is odd\")"
   ]
  },
  {
   "cell_type": "code",
   "execution_count": 2,
   "id": "5482c3d5-c505-44d7-987a-4f4d7b4e744e",
   "metadata": {},
   "outputs": [
    {
     "name": "stdout",
     "output_type": "stream",
     "text": [
      "(20, 10, 16, 19, 25, 1, 276, 188)\n",
      "20 is even\n",
      "10 is even\n",
      "16 is even\n",
      "276 is even\n",
      "188 is even\n"
     ]
    }
   ],
   "source": [
    "list=(20,10,16,19,25,1,276,188)\n",
    "print(list)\n",
    "for n in list:\n",
    "    if(n%2==0):\n",
    "        print(n,\"is even\")"
   ]
  },
  {
   "cell_type": "code",
   "execution_count": null,
   "id": "eed01515-60aa-46bd-be51-c963bf53f89c",
   "metadata": {},
   "outputs": [],
   "source": []
  }
 ],
 "metadata": {
  "kernelspec": {
   "display_name": "Python [conda env:base] *",
   "language": "python",
   "name": "conda-base-py"
  },
  "language_info": {
   "codemirror_mode": {
    "name": "ipython",
    "version": 3
   },
   "file_extension": ".py",
   "mimetype": "text/x-python",
   "name": "python",
   "nbconvert_exporter": "python",
   "pygments_lexer": "ipython3",
   "version": "3.12.7"
  }
 },
 "nbformat": 4,
 "nbformat_minor": 5
}
