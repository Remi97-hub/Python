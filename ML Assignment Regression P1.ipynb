{
 "cells": [
  {
   "cell_type": "code",
   "execution_count": null,
   "id": "9b6e9f40-75b1-4435-8d1d-4a6ae001fa02",
   "metadata": {},
   "outputs": [],
   "source": [
    "# Phase-1 Model Creation\n"
   ]
  },
  {
   "cell_type": "code",
   "execution_count": null,
   "id": "a6475ae6-8769-4454-9d4c-3161cb7a35bb",
   "metadata": {},
   "outputs": [],
   "source": [
    "# Step 1 : Data collection and preprocessing\n",
    "import pandas as pd\n",
    "dataset=pd.read_csv(\"Salary data.csv\")\n",
    "# pandas is a globalised python library used to read excel, csv, JSON etc type of files\n",
    "#here salary data.csv is the file name\n",
    "#read_csv is a function under pandas that reads the datas in the file\n",
    "# now calling the variable dataset will display the datas in the file"
   ]
  },
  {
   "cell_type": "code",
   "execution_count": null,
   "id": "b5f9a183-5a32-4de8-b518-98c222490298",
   "metadata": {},
   "outputs": [],
   "source": [
    "# Step 2 : Input and output split\n",
    "independent=dataset[[\"years of experience\"]]\n",
    "dependent= dataset[[\"Salary\"]]\n",
    "#independent-input variable ,dependent- output variable\n"
   ]
  },
  {
   "cell_type": "code",
   "execution_count": null,
   "id": "3c71653d-3249-4932-b5b6-9614169759d3",
   "metadata": {},
   "outputs": [],
   "source": [
    "# Step 3: Train and test split\n",
    "from sklearn.model_selection import train_test_split\n",
    "x_train,x_test,y_train,y_test=train_test_split(independent,dependent,test_size=0.3,randomstate=0)\n",
    "#sklearn is a library in python that has many functions that can simplifies calculations in ML\n",
    "#input and output for is assigned under variables x_train and y_train\n",
    "# x_test and y_test are assigned with the test set data of size 0.3 (i.e 30%)\n"
   ]
  },
  {
   "cell_type": "code",
   "execution_count": null,
   "id": "49052107-e3ef-44c6-8c1f-e6728fa8386d",
   "metadata": {},
   "outputs": [],
   "source": [
    "# Step 4 : Evaluation Metrics\n",
    "from sklearn.linear_model import LinearRegression\n",
    "regressor=LinearRegression()\n",
    "regressor.fit(x_train.y_train)\n",
    "#linear_model is a function in sklearn used to predict using the input \n",
    "#LinearRegression is a function under linear_model that brings out a straight line from the data(input/output)\n",
    "#LinearRgression is assigned as a non parametric function in the variable regressor so we can introduce the datas in it using fit method\n",
    "\n",
    "\n"
   ]
  },
  {
   "cell_type": "code",
   "execution_count": null,
   "id": "179fed8d-c521-4021-a1a2-276714344849",
   "metadata": {},
   "outputs": [],
   "source": [
    "weight=regressor.coef_\n",
    "# finding the slope(i.e w1,w2...)"
   ]
  },
  {
   "cell_type": "code",
   "execution_count": null,
   "id": "23b9db68-d79b-445e-ac53-f51ed701cddb",
   "metadata": {},
   "outputs": [],
   "source": [
    "bias=regressor.intercept_\n",
    "#finding the intercept (i.e the starting point)"
   ]
  },
  {
   "cell_type": "code",
   "execution_count": null,
   "id": "40736fbd-f048-460e-82a7-abe514877c47",
   "metadata": {},
   "outputs": [],
   "source": [
    "y_pred=regressor.predict(x_test)\n",
    "#this is the procedure to get output from the model\n",
    "#the code to make the model predict (.predict()) is assigned under the variable y_pred\n",
    "#the variable regressor has saved every functions and datas that are collected and splitted"
   ]
  },
  {
   "cell_type": "code",
   "execution_count": null,
   "id": "06b79bf7-8bcf-40af-aed5-c022332106d8",
   "metadata": {},
   "outputs": [],
   "source": [
    "from sklearn.metrics import r2_score\n",
    "r_score=r2_score(y_test,y_pred)\n",
    "# here r2_score is an evaluation metric that evaluates value between 0 and 1\n",
    "# value near 0 is a bad model and value near 1 indicates good model\n",
    "# we have assigned y_test and y_pred inside r2_score because both are outputs that are need to be predicted\n"
   ]
  },
  {
   "cell_type": "code",
   "execution_count": null,
   "id": "4bd9e12d-bd95-40c6-ad35-5697362e4e16",
   "metadata": {},
   "outputs": [],
   "source": [
    "# Step 5 : Saving the Model\n",
    "import pickle\n",
    "filename=\"Finalized_Linear_Model.sav\"\n",
    "pickle.dump(regressor,open('filename','wb'))\n",
    "#pickle is a module in python that can convert list/object/dict or even class to byte streams and also \n",
    "#byte streams to original python object\n",
    "\n",
    "# regressor has eveything that saved inside it so assigned inside using dump function\n",
    "# wb means write binary\n",
    "#always save the filename ending with .sav\n",
    "\n",
    "#Loading the model\n",
    "loaded_model=pickle.load(open(\"Finalized_Linear_Model,sav\",'rb'))\n",
    "result=loaded_model.predict([[int(input())]])\n",
    "#the model is loaded under the variable loaded_model\n",
    "#rb means read binary\n",
    "#calling the variable result will ask for input and after entering the input the model predicts the output"
   ]
  }
 ],
 "metadata": {
  "kernelspec": {
   "display_name": "Python [conda env:base] *",
   "language": "python",
   "name": "conda-base-py"
  },
  "language_info": {
   "codemirror_mode": {
    "name": "ipython",
    "version": 3
   },
   "file_extension": ".py",
   "mimetype": "text/x-python",
   "name": "python",
   "nbconvert_exporter": "python",
   "pygments_lexer": "ipython3",
   "version": "3.12.7"
  }
 },
 "nbformat": 4,
 "nbformat_minor": 5
}
