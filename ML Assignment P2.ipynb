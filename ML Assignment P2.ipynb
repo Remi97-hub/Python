{
 "cells": [
  {
   "cell_type": "code",
   "execution_count": null,
   "id": "bf69d7a6-dfda-48b7-80ef-66d188c924ce",
   "metadata": {},
   "outputs": [],
   "source": [
    "# Phase2 Deployment"
   ]
  },
  {
   "cell_type": "code",
   "execution_count": null,
   "id": "14d6f517-fdd6-47fc-a4bb-2928bb9dfffd",
   "metadata": {},
   "outputs": [],
   "source": [
    "import pickle\n",
    "loaded_model=pickle.load(open(\"Finalized_Linear_Model,sav\",'rb'))\n",
    "result=loaded_model.predict([[int(input())]])\n",
    "# after calling result it will ask for input and after giving input it predicts the output"
   ]
  }
 ],
 "metadata": {
  "kernelspec": {
   "display_name": "Python [conda env:base] *",
   "language": "python",
   "name": "conda-base-py"
  },
  "language_info": {
   "codemirror_mode": {
    "name": "ipython",
    "version": 3
   },
   "file_extension": ".py",
   "mimetype": "text/x-python",
   "name": "python",
   "nbconvert_exporter": "python",
   "pygments_lexer": "ipython3",
   "version": "3.12.7"
  }
 },
 "nbformat": 4,
 "nbformat_minor": 5
}
