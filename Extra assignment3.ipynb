{
 "cells": [
  {
   "cell_type": "code",
   "execution_count": 5,
   "id": "4e644581-f87c-4c3d-bffd-66c0219f0596",
   "metadata": {},
   "outputs": [
    {
     "name": "stdin",
     "output_type": "stream",
     "text": [
      "value: 10\n"
     ]
    },
    {
     "name": "stdout",
     "output_type": "stream",
     "text": [
      "correct\n"
     ]
    }
   ],
   "source": [
    "i=int(input(\"value:\"))\n",
    "if(i==10):\n",
    "    print(\"correct\")\n",
    "else:\n",
    "    print(\"incorrect\")"
   ]
  },
  {
   "cell_type": "code",
   "execution_count": 4,
   "id": "c9367def-9ace-4037-9831-3f9da3874427",
   "metadata": {},
   "outputs": [
    {
     "name": "stdin",
     "output_type": "stream",
     "text": [
      "Enter the Password HOPE@123\n"
     ]
    },
    {
     "name": "stdout",
     "output_type": "stream",
     "text": [
      "Your Password is Correct\n"
     ]
    }
   ],
   "source": [
    "password=input(\"Enter the Password\")\n",
    "if(password==\"HOPE@123\"):\n",
    "    print(\"Your Password is Correct\")\n",
    "else:\n",
    "    print(\"wrong password\")\n"
   ]
  },
  {
   "cell_type": "code",
   "execution_count": 7,
   "id": "f30d299a-093b-4f2d-be42-f286a4ab7bb0",
   "metadata": {},
   "outputs": [
    {
     "name": "stdin",
     "output_type": "stream",
     "text": [
      "Enter Your Age 20\n"
     ]
    },
    {
     "name": "stdout",
     "output_type": "stream",
     "text": [
      "adult\n"
     ]
    }
   ],
   "source": [
    "age=int(input(\"Enter Your Age\"))\n",
    "if(age<18):\n",
    "    print(\"children\")\n",
    "elif(age>=18 and age<40):\n",
    "    print(\"adult\")\n",
    "elif(age>40 and age<70):\n",
    "    print(\"citizen\")\n",
    "else:\n",
    "    print(\"senior citizen\")\n"
   ]
  },
  {
   "cell_type": "code",
   "execution_count": 8,
   "id": "3cf7ca02-56d2-4d3a-ad57-e87bba4c3855",
   "metadata": {},
   "outputs": [
    {
     "name": "stdin",
     "output_type": "stream",
     "text": [
      "Enter any number: 1\n"
     ]
    },
    {
     "name": "stdout",
     "output_type": "stream",
     "text": [
      "No is positive\n"
     ]
    }
   ],
   "source": [
    "a=int(input(\"Enter any number:\"))\n",
    "if(a>0):\n",
    "    print(\"No is positive\")\n",
    "else:\n",
    "    print(\"negative\")"
   ]
  },
  {
   "cell_type": "code",
   "execution_count": 9,
   "id": "dcf6a81a-83ef-43b6-8db4-49ebe3c4badc",
   "metadata": {},
   "outputs": [
    {
     "name": "stdin",
     "output_type": "stream",
     "text": [
      "Enter any Number to check: 22\n"
     ]
    },
    {
     "name": "stdout",
     "output_type": "stream",
     "text": [
      "not divisible by 5\n"
     ]
    }
   ],
   "source": [
    "a=int(input(\"Enter any Number to check:\"))\n",
    "if(a%5==0):\n",
    "    print(\"divisible by 5\")\n",
    "else:\n",
    "    print(\"not divisible by 5\")"
   ]
  },
  {
   "cell_type": "code",
   "execution_count": null,
   "id": "5ac146f8-7c11-414a-ac13-d1af025adc36",
   "metadata": {},
   "outputs": [],
   "source": []
  }
 ],
 "metadata": {
  "kernelspec": {
   "display_name": "Python [conda env:base] *",
   "language": "python",
   "name": "conda-base-py"
  },
  "language_info": {
   "codemirror_mode": {
    "name": "ipython",
    "version": 3
   },
   "file_extension": ".py",
   "mimetype": "text/x-python",
   "name": "python",
   "nbconvert_exporter": "python",
   "pygments_lexer": "ipython3",
   "version": "3.12.7"
  }
 },
 "nbformat": 4,
 "nbformat_minor": 5
}
